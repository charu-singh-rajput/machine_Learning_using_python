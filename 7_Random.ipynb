{
 "cells": [
  {
   "cell_type": "code",
   "execution_count": 1,
   "metadata": {},
   "outputs": [],
   "source": [
    "import numpy as np\n",
    "#uses to generate otp\n",
    "import random "
   ]
  },
  {
   "cell_type": "code",
   "execution_count": 12,
   "metadata": {},
   "outputs": [
    {
     "data": {
      "text/plain": [
       "array([0.79209116])"
      ]
     },
     "execution_count": 12,
     "metadata": {},
     "output_type": "execute_result"
    }
   ],
   "source": [
    "#to generate random number\n",
    "np.random.random(1)"
   ]
  },
  {
   "cell_type": "code",
   "execution_count": 13,
   "metadata": {},
   "outputs": [
    {
     "data": {
      "text/plain": [
       "array([[0.93309552, 0.54384018, 0.46844781],\n",
       "       [0.21723371, 0.87396721, 0.33569676],\n",
       "       [0.84266702, 0.81899779, 0.71434109]])"
      ]
     },
     "execution_count": 13,
     "metadata": {},
     "output_type": "execute_result"
    }
   ],
   "source": [
    "#for 2 d array\n",
    "np.random.random((3,3))"
   ]
  },
  {
   "cell_type": "code",
   "execution_count": 28,
   "metadata": {},
   "outputs": [
    {
     "data": {
      "text/plain": [
       "3"
      ]
     },
     "execution_count": 28,
     "metadata": {},
     "output_type": "execute_result"
    }
   ],
   "source": [
    "#integer values between 1 and 4\n",
    "np.random.randint(1,4)"
   ]
  },
  {
   "cell_type": "code",
   "execution_count": 33,
   "metadata": {},
   "outputs": [
    {
     "data": {
      "text/plain": [
       "array([[3, 1, 2, 3],\n",
       "       [1, 2, 2, 1],\n",
       "       [3, 2, 1, 3],\n",
       "       [2, 2, 2, 2]])"
      ]
     },
     "execution_count": 33,
     "metadata": {},
     "output_type": "execute_result"
    }
   ],
   "source": [
    "#2 d array \n",
    "np.random.randint(1,4,(4,4))"
   ]
  },
  {
   "cell_type": "code",
   "execution_count": 41,
   "metadata": {},
   "outputs": [
    {
     "data": {
      "text/plain": [
       "array([[[2, 3, 2, 3],\n",
       "        [2, 3, 1, 2],\n",
       "        [1, 2, 1, 3],\n",
       "        [3, 1, 1, 3]]])"
      ]
     },
     "execution_count": 41,
     "metadata": {},
     "output_type": "execute_result"
    }
   ],
   "source": [
    "#3 d array\n",
    "np.random.randint(1,4,(1,4,4))"
   ]
  },
  {
   "cell_type": "code",
   "execution_count": 42,
   "metadata": {},
   "outputs": [
    {
     "data": {
      "text/plain": [
       "array([[[3, 2, 1, 3],\n",
       "        [2, 3, 1, 3],\n",
       "        [2, 2, 2, 2],\n",
       "        [3, 2, 1, 3]]])"
      ]
     },
     "execution_count": 42,
     "metadata": {},
     "output_type": "execute_result"
    }
   ],
   "source": [
    "#to generate the same random pattern again maximum 2^32-1 pattern\n",
    "np.random.seed(6)\n",
    "np.random.randint(1,4,(1,4,4))"
   ]
  },
  {
   "cell_type": "code",
   "execution_count": 43,
   "metadata": {},
   "outputs": [
    {
     "data": {
      "text/plain": [
       "array([[[3, 2, 1, 3],\n",
       "        [2, 3, 1, 3],\n",
       "        [2, 2, 2, 2],\n",
       "        [3, 2, 1, 3]]])"
      ]
     },
     "execution_count": 43,
     "metadata": {},
     "output_type": "execute_result"
    }
   ],
   "source": [
    "#to generate the same random pattern again\n",
    "np.random.seed(6)\n",
    "np.random.randint(1,4,(1,4,4))"
   ]
  },
  {
   "cell_type": "code",
   "execution_count": 44,
   "metadata": {},
   "outputs": [
    {
     "data": {
      "text/plain": [
       "array([[[3, 1, 3, 2],\n",
       "        [3, 1, 3, 2],\n",
       "        [2, 3, 1, 1],\n",
       "        [3, 2, 1, 2]]])"
      ]
     },
     "execution_count": 44,
     "metadata": {},
     "output_type": "execute_result"
    }
   ],
   "source": [
    "np.random.seed(9)\n",
    "np.random.randint(1,4,(1,4,4))"
   ]
  },
  {
   "cell_type": "code",
   "execution_count": 50,
   "metadata": {},
   "outputs": [
    {
     "data": {
      "text/plain": [
       "array([[[3, 2, 1, 3],\n",
       "        [2, 3, 1, 3],\n",
       "        [2, 2, 2, 2],\n",
       "        [3, 2, 1, 3]]])"
      ]
     },
     "execution_count": 50,
     "metadata": {},
     "output_type": "execute_result"
    }
   ],
   "source": [
    "np.random.seed(6)\n",
    "np.random.randint(1,4,(1,4,4))"
   ]
  },
  {
   "cell_type": "code",
   "execution_count": 52,
   "metadata": {},
   "outputs": [
    {
     "data": {
      "text/plain": [
       "array([0.43814143])"
      ]
     },
     "execution_count": 52,
     "metadata": {},
     "output_type": "execute_result"
    }
   ],
   "source": [
    "np.random.rand(1)"
   ]
  },
  {
   "cell_type": "code",
   "execution_count": 54,
   "metadata": {},
   "outputs": [
    {
     "data": {
      "text/plain": [
       "array([[0.73588211, 0.51803641, 0.5788586 , 0.6453551 , 0.99022427],\n",
       "       [0.8198582 , 0.41320093, 0.87626766, 0.82375943, 0.05447451]])"
      ]
     },
     "execution_count": 54,
     "metadata": {},
     "output_type": "execute_result"
    }
   ],
   "source": [
    "#values ranging between 0 and 1\n",
    "np.random.rand(2,5)"
   ]
  },
  {
   "cell_type": "code",
   "execution_count": 55,
   "metadata": {},
   "outputs": [
    {
     "data": {
      "text/plain": [
       "array([[ 0.87722778,  0.63472317,  0.89879299,  1.01601327, -1.05448739],\n",
       "       [ 0.11505911, -0.10678997,  0.50517128,  0.70734113, -0.92146499]])"
      ]
     },
     "execution_count": 55,
     "metadata": {},
     "output_type": "execute_result"
    }
   ],
   "source": [
    "#values ranging between -1 and 1\n",
    "np.random.randn(2,5)"
   ]
  },
  {
   "cell_type": "code",
   "execution_count": 58,
   "metadata": {},
   "outputs": [
    {
     "name": "stdout",
     "output_type": "stream",
     "text": [
      "2\n",
      "1\n",
      "1\n",
      "3\n",
      "4\n",
      "5\n",
      "4\n",
      "1\n",
      "2\n",
      "5\n",
      "3\n",
      "5\n",
      "2\n",
      "4\n",
      "2\n",
      "2\n",
      "5\n",
      "1\n",
      "3\n",
      "1\n"
     ]
    }
   ],
   "source": [
    "#choices between the given ranges only\n",
    "x=[1,2,3,4,5]\n",
    "for i in range(20):\n",
    "    print(np.random.choice(x))"
   ]
  },
  {
   "cell_type": "code",
   "execution_count": 59,
   "metadata": {},
   "outputs": [
    {
     "name": "stdout",
     "output_type": "stream",
     "text": [
      "[4 1 3 5 2]\n",
      "[4 3 1 5 2]\n",
      "[3 1 4 2 5]\n",
      "[5 1 2 3 4]\n",
      "[5 3 4 1 2]\n",
      "[2 1 4 5 3]\n",
      "[5 1 2 4 3]\n",
      "[1 4 2 3 5]\n",
      "[2 5 1 4 3]\n",
      "[1 4 2 3 5]\n",
      "[3 4 2 1 5]\n",
      "[3 1 5 4 2]\n",
      "[5 2 4 1 3]\n",
      "[2 4 3 5 1]\n",
      "[3 4 2 1 5]\n",
      "[2 4 3 5 1]\n",
      "[5 3 2 4 1]\n",
      "[4 3 5 1 2]\n",
      "[1 2 5 3 4]\n",
      "[3 5 1 2 4]\n"
     ]
    }
   ],
   "source": [
    "#permutation - arranging in some sequence\n",
    "for i in range(20):\n",
    "    print(np.random.permutation(x))"
   ]
  }
 ],
 "metadata": {
  "kernelspec": {
   "display_name": "Python 3",
   "language": "python",
   "name": "python3"
  },
  "language_info": {
   "codemirror_mode": {
    "name": "ipython",
    "version": 3
   },
   "file_extension": ".py",
   "mimetype": "text/x-python",
   "name": "python",
   "nbconvert_exporter": "python",
   "pygments_lexer": "ipython3",
   "version": "3.7.4"
  }
 },
 "nbformat": 4,
 "nbformat_minor": 2
}
